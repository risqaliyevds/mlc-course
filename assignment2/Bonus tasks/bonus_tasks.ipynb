{
 "cells": [
  {
   "cell_type": "code",
   "execution_count": 16,
   "id": "figured-destiny",
   "metadata": {},
   "outputs": [],
   "source": [
    "import numpy as np\n",
    "import pandas as pd\n",
    "import matplotlib.pyplot as plt\n",
    "\n",
    "from sklearn.linear_model import LogisticRegression\n",
    "from sklearn.model_selection import train_test_split"
   ]
  },
  {
   "cell_type": "markdown",
   "id": "correct-seafood",
   "metadata": {},
   "source": [
    "# Task 1"
   ]
  },
  {
   "cell_type": "code",
   "execution_count": 2,
   "id": "knowing-jerusalem",
   "metadata": {},
   "outputs": [],
   "source": [
    "x_a_train = [-2, -2, -2, -2, -1, -1, -1, -1, -0.8, -0.8, -0.8, -0.8, -0.4, -0.4, -0.4, -0.4,\n",
    "            0.4, 0.4, 0.8, 0.8, 0.8, 1,   1.5, 1.5]\n",
    "y_a_train = [-1.5, -1, -0.4, -0.2, -1.5, -1, -0.4, -0.2, -1.5, -1, -0.4, -0.2, -1.5, -1, -0.4, -0.2, \n",
    "            1,   0.8, 0.8, 1,   1.5, 0.2, 0.2, 1.5]"
   ]
  },
  {
   "cell_type": "code",
   "execution_count": 3,
   "id": "commercial-education",
   "metadata": {},
   "outputs": [],
   "source": [
    "x_a_test = [0.2, 0.2, 0.8, 1,   1, 1,   1.5, 1.5]\n",
    "y_a_test = [0.2, 1.5, 0.2, 0.8, 1, 1.5, 0.8, 1]"
   ]
  },
  {
   "cell_type": "code",
   "execution_count": 4,
   "id": "juvenile-default",
   "metadata": {},
   "outputs": [],
   "source": [
    "x_b_train = [-1.5, -1.5, -1.5, -1,  -1, -1, -1, -0.8, -0.8, -0.8, -0.2, -0.2,\n",
    "            0.5, 0.5, 0.5, 0.5, 0.8, 0.8, 0.8, 0.8, 1, 1, 1, 1, 1.5, 1.5, 1.5]\n",
    "y_b_train = [0.4,   0.8,    1, 0.2, 0.4, 1, 1.5, 0.2,  0.8,  1.5, 0.5,  1.5,\n",
    "            -1.5, -1, -0.8, -0.4, -1.5, -1, -0.8, -0.4, -1.5, -1, -0.8, -0.4, -1.5, -0.8, -0.4, ]"
   ]
  },
  {
   "cell_type": "code",
   "execution_count": 5,
   "id": "appointed-klein",
   "metadata": {},
   "outputs": [],
   "source": [
    "x_b_test = [-1.5, -0.8, -0.2, -0.2, 1.5]\n",
    "y_b_test = [1.5,    1,    1,   0.8, -1]"
   ]
  },
  {
   "cell_type": "code",
   "execution_count": 6,
   "id": "crucial-photographer",
   "metadata": {},
   "outputs": [
    {
     "data": {
      "text/plain": [
       "[<matplotlib.lines.Line2D at 0x7f552e0b5ee0>,\n",
       " <matplotlib.lines.Line2D at 0x7f552c0480a0>,\n",
       " <matplotlib.lines.Line2D at 0x7f552e0b5e80>,\n",
       " <matplotlib.lines.Line2D at 0x7f552c048280>]"
      ]
     },
     "execution_count": 6,
     "metadata": {},
     "output_type": "execute_result"
    },
    {
     "data": {
      "image/png": "[encoded data removed]",
      "text/plain": [
       "<Figure size 432x288 with 1 Axes>"
      ]
     },
     "metadata": {
      "needs_background": "light"
     },
     "output_type": "display_data"
    }
   ],
   "source": [
    "plt.xlim(right=3)\n",
    "plt.xlim(left=-3)\n",
    "\n",
    "plt.ylim(top=3)\n",
    "plt.ylim(bottom=-3)\n",
    "\n",
    "plt.plot(x_a_train, y_a_train, 'bo', x_a_test, y_a_test, 'b*', \n",
    "         x_b_train, y_b_train, 'ro', x_b_test, y_b_test, 'r*')"
   ]
  },
  {
   "cell_type": "code",
   "execution_count": 7,
   "id": "charming-agreement",
   "metadata": {},
   "outputs": [],
   "source": [
    "X_train = []\n",
    "Y_train = []\n",
    "for i, j in zip(x_a_train, y_a_train):   # let A be 0 and B to be 1\n",
    "    X_train.append((i, j))\n",
    "    Y_train.append(0)\n",
    "\n",
    "for i, j in zip(x_b_train, y_b_train):   # let A be 0 and B to be 1\n",
    "    X_train.append((i, j))\n",
    "    Y_train.append(1)"
   ]
  },
  {
   "cell_type": "code",
   "execution_count": 8,
   "id": "senior-yugoslavia",
   "metadata": {},
   "outputs": [],
   "source": [
    "X_test = []\n",
    "Y_test = []\n",
    "for i, j in zip(x_a_test, y_a_test):   # let A be 0 and B to be 1\n",
    "    X_test.append((i, j))\n",
    "    Y_test.append(0)\n",
    "\n",
    "for i, j in zip(x_b_test, y_b_test):   # let A be 0 and B to be 1\n",
    "    X_test.append((i, j))\n",
    "    Y_test.append(1)"
   ]
  },
  {
   "cell_type": "code",
   "execution_count": 9,
   "id": "smoking-robertson",
   "metadata": {},
   "outputs": [],
   "source": [
    "model = LogisticRegression().fit(X_train, Y_train)"
   ]
  },
  {
   "cell_type": "markdown",
   "id": "accredited-grill",
   "metadata": {},
   "source": [
    "### Score is very low 23%, but it can easily be 100%\n",
    "\n",
    "The key is in visualization and feature engineering based on visual observations\n",
    "\n",
    "Hint: try to matematically change values, like: all X coordinates - relative Y coordinates"
   ]
  },
  {
   "cell_type": "code",
   "execution_count": 10,
   "id": "level-transmission",
   "metadata": {},
   "outputs": [
    {
     "data": {
      "text/plain": [
       "0.23076923076923078"
      ]
     },
     "execution_count": 10,
     "metadata": {},
     "output_type": "execute_result"
    }
   ],
   "source": [
    "model.score(X_test, Y_test)"
   ]
  },
  {
   "cell_type": "markdown",
   "id": "approximate-administrator",
   "metadata": {},
   "source": [
    "# Task 2"
   ]
  },
  {
   "cell_type": "code",
   "execution_count": 14,
   "id": "handmade-stick",
   "metadata": {},
   "outputs": [
    {
     "data": {
      "text/html": [
       "<div>\n",
       "<style scoped>\n",
       "    .dataframe tbody tr th:only-of-type {\n",
       "        vertical-align: middle;\n",
       "    }\n",
       "\n",
       "    .dataframe tbody tr th {\n",
       "        vertical-align: top;\n",
       "    }\n",
       "\n",
       "    .dataframe thead th {\n",
       "        text-align: right;\n",
       "    }\n",
       "</style>\n",
       "<table border=\"1\" class=\"dataframe\">\n",
       "  <thead>\n",
       "    <tr style=\"text-align: right;\">\n",
       "      <th></th>\n",
       "      <th>features_1</th>\n",
       "      <th>features_2</th>\n",
       "      <th>features_3</th>\n",
       "      <th>label</th>\n",
       "    </tr>\n",
       "  </thead>\n",
       "  <tbody>\n",
       "    <tr>\n",
       "      <th>0</th>\n",
       "      <td>2.5</td>\n",
       "      <td>0.00</td>\n",
       "      <td>58</td>\n",
       "      <td>B</td>\n",
       "    </tr>\n",
       "    <tr>\n",
       "      <th>1</th>\n",
       "      <td>2.5</td>\n",
       "      <td>0.02</td>\n",
       "      <td>61</td>\n",
       "      <td>B</td>\n",
       "    </tr>\n",
       "    <tr>\n",
       "      <th>2</th>\n",
       "      <td>2.5</td>\n",
       "      <td>0.05</td>\n",
       "      <td>33</td>\n",
       "      <td>B</td>\n",
       "    </tr>\n",
       "    <tr>\n",
       "      <th>3</th>\n",
       "      <td>2.5</td>\n",
       "      <td>0.07</td>\n",
       "      <td>89</td>\n",
       "      <td>B</td>\n",
       "    </tr>\n",
       "    <tr>\n",
       "      <th>4</th>\n",
       "      <td>2.5</td>\n",
       "      <td>0.10</td>\n",
       "      <td>58</td>\n",
       "      <td>B</td>\n",
       "    </tr>\n",
       "    <tr>\n",
       "      <th>...</th>\n",
       "      <td>...</td>\n",
       "      <td>...</td>\n",
       "      <td>...</td>\n",
       "      <td>...</td>\n",
       "    </tr>\n",
       "    <tr>\n",
       "      <th>1253</th>\n",
       "      <td>2.0</td>\n",
       "      <td>-0.09</td>\n",
       "      <td>30</td>\n",
       "      <td>A</td>\n",
       "    </tr>\n",
       "    <tr>\n",
       "      <th>1254</th>\n",
       "      <td>2.0</td>\n",
       "      <td>-0.07</td>\n",
       "      <td>41</td>\n",
       "      <td>A</td>\n",
       "    </tr>\n",
       "    <tr>\n",
       "      <th>1255</th>\n",
       "      <td>2.0</td>\n",
       "      <td>-0.05</td>\n",
       "      <td>30</td>\n",
       "      <td>A</td>\n",
       "    </tr>\n",
       "    <tr>\n",
       "      <th>1256</th>\n",
       "      <td>2.0</td>\n",
       "      <td>-0.03</td>\n",
       "      <td>3</td>\n",
       "      <td>A</td>\n",
       "    </tr>\n",
       "    <tr>\n",
       "      <th>1257</th>\n",
       "      <td>2.0</td>\n",
       "      <td>-0.01</td>\n",
       "      <td>36</td>\n",
       "      <td>A</td>\n",
       "    </tr>\n",
       "  </tbody>\n",
       "</table>\n",
       "<p>1258 rows × 4 columns</p>\n",
       "</div>"
      ],
      "text/plain": [
       "      features_1  features_2  features_3 label\n",
       "0            2.5        0.00          58     B\n",
       "1            2.5        0.02          61     B\n",
       "2            2.5        0.05          33     B\n",
       "3            2.5        0.07          89     B\n",
       "4            2.5        0.10          58     B\n",
       "...          ...         ...         ...   ...\n",
       "1253         2.0       -0.09          30     A\n",
       "1254         2.0       -0.07          41     A\n",
       "1255         2.0       -0.05          30     A\n",
       "1256         2.0       -0.03           3     A\n",
       "1257         2.0       -0.01          36     A\n",
       "\n",
       "[1258 rows x 4 columns]"
      ]
     },
     "execution_count": 14,
     "metadata": {},
     "output_type": "execute_result"
    }
   ],
   "source": [
    "df = pd.read_csv(\"task_2_dataset.csv\", index_col=0)\n",
    "df"
   ]
  },
  {
   "cell_type": "code",
   "execution_count": 17,
   "id": "colonial-position",
   "metadata": {},
   "outputs": [],
   "source": [
    "X = df.drop('label', axis=1)\n",
    "y = df['label']\n",
    "X_train, X_test, y_train, y_test = train_test_split(\n",
    "    X, y, test_size=0.20, random_state=42\n",
    "    )"
   ]
  },
  {
   "cell_type": "code",
   "execution_count": 18,
   "id": "equal-settle",
   "metadata": {},
   "outputs": [
    {
     "data": {
      "text/plain": [
       "0.4880952380952381"
      ]
     },
     "execution_count": 18,
     "metadata": {},
     "output_type": "execute_result"
    }
   ],
   "source": [
    "model = LogisticRegression().fit(X_train, y_train)\n",
    "model.score(X_test, y_test)"
   ]
  },
  {
   "cell_type": "markdown",
   "id": "alternative-yacht",
   "metadata": {},
   "source": [
    "### score is about 50%, but again it can be 100%\n",
    "\n",
    "The key is again in visualization\n",
    "\n",
    "Hint: try to visualize in various of ways to see patterns"
   ]
  },
  {
   "cell_type": "code",
   "execution_count": null,
   "id": "colored-findings",
   "metadata": {},
   "outputs": [],
   "source": []
  }
 ],
 "metadata": {
  "kernelspec": {
   "display_name": "Python 3",
   "language": "python",
   "name": "python3"
  },
  "language_info": {
   "codemirror_mode": {
    "name": "ipython",
    "version": 3
   },
   "file_extension": ".py",
   "mimetype": "text/x-python",
   "name": "python",
   "nbconvert_exporter": "python",
   "pygments_lexer": "ipython3",
   "version": "3.8.10"
  }
 },
 "nbformat": 4,
 "nbformat_minor": 5
}
