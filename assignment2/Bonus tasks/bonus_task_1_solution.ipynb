{
 "cells": [
  {
   "cell_type": "code",
   "execution_count": 1,
   "id": "figured-destiny",
   "metadata": {},
   "outputs": [],
   "source": [
    "import numpy as np\n",
    "import pandas as pd\n",
    "import matplotlib.pyplot as plt\n",
    "import seaborn as sns\n",
    "\n",
    "from sklearn.linear_model import LogisticRegression\n",
    "from sklearn.model_selection import train_test_split"
   ]
  },
  {
   "cell_type": "markdown",
   "id": "correct-seafood",
   "metadata": {},
   "source": [
    "# Task 1"
   ]
  },
  {
   "cell_type": "code",
   "execution_count": 2,
   "id": "knowing-jerusalem",
   "metadata": {},
   "outputs": [],
   "source": [
    "x_a_train = [-2, -2, -2, -2, -1, -1, -1, -1, -0.8, -0.8, -0.8, -0.8, -0.4, -0.4, -0.4, -0.4,\n",
    "            0.4, 0.4, 0.8, 0.8, 0.8, 1,   1.5, 1.5]\n",
    "y_a_train = [-1.5, -1, -0.4, -0.2, -1.5, -1, -0.4, -0.2, -1.5, -1, -0.4, -0.2, -1.5, -1, -0.4, -0.2, \n",
    "            1,   0.8, 0.8, 1,   1.5, 0.2, 0.2, 1.5]"
   ]
  },
  {
   "cell_type": "code",
   "execution_count": 3,
   "id": "commercial-education",
   "metadata": {},
   "outputs": [],
   "source": [
    "x_a_test = [0.2, 0.2, 0.8, 1,   1, 1,   1.5, 1.5]\n",
    "y_a_test = [0.2, 1.5, 0.2, 0.8, 1, 1.5, 0.8, 1]"
   ]
  },
  {
   "cell_type": "code",
   "execution_count": 4,
   "id": "juvenile-default",
   "metadata": {},
   "outputs": [],
   "source": [
    "x_b_train = [-1.5, -1.5, -1.5, -1,  -1, -1, -1, -0.8, -0.8, -0.8, -0.2, -0.2,\n",
    "            0.5, 0.5, 0.5, 0.5, 0.8, 0.8, 0.8, 0.8, 1, 1, 1, 1, 1.5, 1.5, 1.5]\n",
    "y_b_train = [0.4,   0.8,    1, 0.2, 0.4, 1, 1.5, 0.2,  0.8,  1.5, 0.5,  1.5,\n",
    "            -1.5, -1, -0.8, -0.4, -1.5, -1, -0.8, -0.4, -1.5, -1, -0.8, -0.4, -1.5, -0.8, -0.4, ]"
   ]
  },
  {
   "cell_type": "code",
   "execution_count": 5,
   "id": "appointed-klein",
   "metadata": {},
   "outputs": [],
   "source": [
    "x_b_test = [-1.5, -0.8, -0.2, -0.2, 1.5]\n",
    "y_b_test = [1.5,    1,    1,   0.8, -1]"
   ]
  },
  {
   "cell_type": "code",
   "execution_count": 6,
   "id": "crucial-photographer",
   "metadata": {},
   "outputs": [
    {
     "data": {
      "image/png": "[encoded data removed]",
      "text/plain": [
       "<Figure size 432x288 with 1 Axes>"
      ]
     },
     "metadata": {
      "needs_background": "light"
     },
     "output_type": "display_data"
    }
   ],
   "source": [
    "plt.xlim(right=3)\n",
    "plt.xlim(left=-3)\n",
    "\n",
    "plt.ylim(top=3)\n",
    "plt.ylim(bottom=-3)\n",
    "\n",
    "plt.plot(x_a_train, y_a_train, 'bo', x_a_test, y_a_test, 'b*', \n",
    "         x_b_train, y_b_train, 'ro', x_b_test, y_b_test, 'r*')\n",
    "\n",
    "plt.show()"
   ]
  },
  {
   "cell_type": "code",
   "execution_count": 7,
   "id": "charming-agreement",
   "metadata": {},
   "outputs": [],
   "source": [
    "X_train = []\n",
    "Y_train = []\n",
    "for i, j in zip(x_a_train, y_a_train):   # let A be 0 and B to be 1\n",
    "    X_train.append((i, j))\n",
    "    Y_train.append(0)\n",
    "\n",
    "for i, j in zip(x_b_train, y_b_train):   # let A be 0 and B to be 1\n",
    "    X_train.append((i, j))\n",
    "    Y_train.append(1)"
   ]
  },
  {
   "cell_type": "code",
   "execution_count": 8,
   "id": "senior-yugoslavia",
   "metadata": {},
   "outputs": [],
   "source": [
    "X_test = []\n",
    "Y_test = []\n",
    "for i, j in zip(x_a_test, y_a_test):   # let A be 0 and B to be 1\n",
    "    X_test.append((i, j))\n",
    "    Y_test.append(0)\n",
    "\n",
    "for i, j in zip(x_b_test, y_b_test):   # let A be 0 and B to be 1\n",
    "    X_test.append((i, j))\n",
    "    Y_test.append(1)"
   ]
  },
  {
   "cell_type": "code",
   "execution_count": 9,
   "id": "smoking-robertson",
   "metadata": {},
   "outputs": [],
   "source": [
    "model = LogisticRegression().fit(X_train, Y_train)"
   ]
  },
  {
   "cell_type": "markdown",
   "id": "accredited-grill",
   "metadata": {},
   "source": [
    "### Score is very low 23%, but it can easily be 100%\n",
    "\n",
    "The key is in visualization and feature engineering based on visual observations\n",
    "\n",
    "Hint: try to matematically change values, like: all X coordinates - relative Y coordinates"
   ]
  },
  {
   "cell_type": "code",
   "execution_count": 10,
   "id": "level-transmission",
   "metadata": {},
   "outputs": [
    {
     "data": {
      "text/plain": [
       "0.23076923076923078"
      ]
     },
     "execution_count": 10,
     "metadata": {},
     "output_type": "execute_result"
    }
   ],
   "source": [
    "model.score(X_test, Y_test)"
   ]
  },
  {
   "cell_type": "code",
   "execution_count": 11,
   "id": "0244a409",
   "metadata": {},
   "outputs": [],
   "source": [
    "X_train = pd.DataFrame(X_train, columns=[\"col1\", \"col2\"])\n",
    "X_test = pd.DataFrame(X_test, columns=[\"col1\", \"col2\"])"
   ]
  },
  {
   "cell_type": "code",
   "execution_count": 12,
   "id": "66a2bc71",
   "metadata": {
    "scrolled": true
   },
   "outputs": [
    {
     "data": {
      "image/png": "[encoded data removed]",
      "text/plain": [
       "<Figure size 432x288 with 1 Axes>"
      ]
     },
     "metadata": {
      "needs_background": "light"
     },
     "output_type": "display_data"
    }
   ],
   "source": [
    "fig, ax = plt.subplots()\n",
    "\n",
    "sns.scatterplot(data=X_train, x = \"col1\", y = \"col2\", hue = Y_train)\n",
    "ax.axhline(0)\n",
    "ax.axvline(0)\n",
    "\n",
    "plt.show()"
   ]
  },
  {
   "cell_type": "code",
   "execution_count": 13,
   "id": "94c1b2d2",
   "metadata": {},
   "outputs": [],
   "source": [
    "X_train['multiplication'] = X_train.col1 * X_train.col2"
   ]
  },
  {
   "cell_type": "code",
   "execution_count": 14,
   "id": "5c440beb",
   "metadata": {},
   "outputs": [],
   "source": [
    "X_test['multiplication'] = X_test.col1 * X_test.col2"
   ]
  },
  {
   "cell_type": "code",
   "execution_count": 15,
   "id": "07e47461",
   "metadata": {},
   "outputs": [],
   "source": [
    "new_model = LogisticRegression().fit(X_train[['multiplication']], Y_train)"
   ]
  },
  {
   "cell_type": "code",
   "execution_count": 16,
   "id": "0de6762a",
   "metadata": {},
   "outputs": [
    {
     "data": {
      "text/plain": [
       "array([0, 0, 0, 0, 0, 0, 0, 0, 1, 1, 1, 1, 1])"
      ]
     },
     "execution_count": 16,
     "metadata": {},
     "output_type": "execute_result"
    }
   ],
   "source": [
    "pred = new_model.predict(X_test[['multiplication']])\n",
    "pred"
   ]
  },
  {
   "cell_type": "code",
   "execution_count": 17,
   "id": "3785c36d",
   "metadata": {},
   "outputs": [
    {
     "data": {
      "text/plain": [
       "1.0"
      ]
     },
     "execution_count": 17,
     "metadata": {},
     "output_type": "execute_result"
    }
   ],
   "source": [
    "new_model.score(X_test[['multiplication']], Y_test)"
   ]
  }
 ],
 "metadata": {
  "kernelspec": {
   "display_name": "Python 3 (ipykernel)",
   "language": "python",
   "name": "python3"
  },
  "language_info": {
   "codemirror_mode": {
    "name": "ipython",
    "version": 3
   },
   "file_extension": ".py",
   "mimetype": "text/x-python",
   "name": "python",
   "nbconvert_exporter": "python",
   "pygments_lexer": "ipython3",
   "version": "3.9.12"
  }
 },
 "nbformat": 4,
 "nbformat_minor": 5
}
