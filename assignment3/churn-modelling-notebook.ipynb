{
 "cells": [
  {
   "cell_type": "markdown",
   "metadata": {},
   "source": [
    "<a id=section-two></a>\n",
    "# <span style=\"color:#144272;font-weight:600;font-size:22px;font-style:sans-serif;\">Churn Modelling</span> "
   ]
  },
  {
   "cell_type": "markdown",
   "metadata": {},
   "source": [
    "<a id=section-two></a>\n",
    "# <span style=\"color:#144272;font-weight:600;font-size:16px;font-style:sans-serif;\">Aim of this notebook is to find the most accurate and precise model to predict, which clients (test data) will stay and which are hesitant and might plan to leave the company. We are using dataset of bank clients (10000 rows) with attributes specified below. Let's jump right into it!</span> "
   ]
  },
  {
   "cell_type": "markdown",
   "metadata": {},
   "source": [
    "<a id=section-two></a>\n",
    "# <span style=\"color:#144272;font-weight:600;font-size:18px;font-style:sans-serif;\">**Dataset has following attributes:**</span> \n",
    "\n",
    "\n",
    "* Rownumber: Unique ID for every row\n",
    "* CustomerID: Unique ID for every client\n",
    "* Surname: Client's surname\n",
    "* CreditScore: Client's credit score\n",
    "* Geography: Country of client's origin\n",
    "* Gender: Client's gender\n",
    "* Age: Client's age\n",
    "* Tenure: Number of years for which the client has been with the bank\n",
    "* Balance: Client's balance on account\n",
    "* NumOfProducts: Number of client's products\n",
    "* HasCrCard: Flag whether client has credit card or not \n",
    "* IsActiveMember: Flag whether client is active member of bank or not \n",
    "* EstimatedSalary: Client's annual estimated salary in euros\n",
    "* **Exited: Target variable, flag, whether client left the bank or not**"
   ]
  },
  {
   "cell_type": "markdown",
   "metadata": {
    "id": "XBKEOsvc-0AD"
   },
   "source": [
    "<a id=section-two></a>\n",
    "# <span style=\"color:#144272;font-weight:600;font-size:18px;font-style:sans-serif;\">Data Preprocessing</span>"
   ]
  },
  {
   "cell_type": "code",
   "execution_count": 8,
   "metadata": {
    "execution": {
     "iopub.execute_input": "2023-02-24T14:05:27.473689Z",
     "iopub.status.busy": "2023-02-24T14:05:27.473221Z",
     "iopub.status.idle": "2023-02-24T14:05:27.484781Z",
     "shell.execute_reply": "2023-02-24T14:05:27.483621Z",
     "shell.execute_reply.started": "2023-02-24T14:05:27.473650Z"
    },
    "id": "kji5SxDM-0AF"
   },
   "outputs": [],
   "source": [
    "# Import necessary libraries\n",
    "\n",
    "import numpy as np\n",
    "import pandas as pd\n",
    "\n",
    "import matplotlib.pyplot as plt\n",
    "import seaborn as sns\n",
    "\n",
    "from sklearn.model_selection import train_test_split, RandomizedSearchCV\n",
    "\n",
    "from xgboost import XGBClassifier\n",
    "from sklearn.ensemble import RandomForestClassifier, GradientBoostingClassifier\n",
    "\n",
    "from sklearn.metrics import confusion_matrix, classification_report"
   ]
  },
  {
   "cell_type": "markdown",
   "metadata": {},
   "source": [
    "Data: https://www.kaggle.com/datasets/shubh0799/churn-modelling"
   ]
  },
  {
   "cell_type": "code",
   "execution_count": 14,
   "metadata": {
    "colab": {
     "base_uri": "https://localhost:8080/",
     "height": 301
    },
    "execution": {
     "iopub.execute_input": "2023-02-24T14:05:27.970071Z",
     "iopub.status.busy": "2023-02-24T14:05:27.969636Z",
     "iopub.status.idle": "2023-02-24T14:05:28.070006Z",
     "shell.execute_reply": "2023-02-24T14:05:28.068901Z",
     "shell.execute_reply.started": "2023-02-24T14:05:27.970035Z"
    },
    "id": "o01isLdR-0AG",
    "outputId": "53d55f5a-4897-4a30-9313-1030b38b412c"
   },
   "outputs": [
    {
     "data": {
      "text/html": [
       "<div>\n",
       "<style scoped>\n",
       "    .dataframe tbody tr th:only-of-type {\n",
       "        vertical-align: middle;\n",
       "    }\n",
       "\n",
       "    .dataframe tbody tr th {\n",
       "        vertical-align: top;\n",
       "    }\n",
       "\n",
       "    .dataframe thead th {\n",
       "        text-align: right;\n",
       "    }\n",
       "</style>\n",
       "<table border=\"1\" class=\"dataframe\">\n",
       "  <thead>\n",
       "    <tr style=\"text-align: right;\">\n",
       "      <th></th>\n",
       "      <th>CustomerId</th>\n",
       "      <th>Surname</th>\n",
       "      <th>CreditScore</th>\n",
       "      <th>Geography</th>\n",
       "      <th>Gender</th>\n",
       "      <th>Age</th>\n",
       "      <th>Tenure</th>\n",
       "      <th>Balance</th>\n",
       "      <th>NumOfProducts</th>\n",
       "      <th>HasCrCard</th>\n",
       "      <th>IsActiveMember</th>\n",
       "      <th>EstimatedSalary</th>\n",
       "      <th>Exited</th>\n",
       "    </tr>\n",
       "    <tr>\n",
       "      <th>RowNumber</th>\n",
       "      <th></th>\n",
       "      <th></th>\n",
       "      <th></th>\n",
       "      <th></th>\n",
       "      <th></th>\n",
       "      <th></th>\n",
       "      <th></th>\n",
       "      <th></th>\n",
       "      <th></th>\n",
       "      <th></th>\n",
       "      <th></th>\n",
       "      <th></th>\n",
       "      <th></th>\n",
       "    </tr>\n",
       "  </thead>\n",
       "  <tbody>\n",
       "    <tr>\n",
       "      <th>1</th>\n",
       "      <td>15634602</td>\n",
       "      <td>Hargrave</td>\n",
       "      <td>619</td>\n",
       "      <td>France</td>\n",
       "      <td>Female</td>\n",
       "      <td>42</td>\n",
       "      <td>2</td>\n",
       "      <td>0.00</td>\n",
       "      <td>1</td>\n",
       "      <td>1</td>\n",
       "      <td>1</td>\n",
       "      <td>101348.88</td>\n",
       "      <td>1</td>\n",
       "    </tr>\n",
       "    <tr>\n",
       "      <th>2</th>\n",
       "      <td>15647311</td>\n",
       "      <td>Hill</td>\n",
       "      <td>608</td>\n",
       "      <td>Spain</td>\n",
       "      <td>Female</td>\n",
       "      <td>41</td>\n",
       "      <td>1</td>\n",
       "      <td>83807.86</td>\n",
       "      <td>1</td>\n",
       "      <td>0</td>\n",
       "      <td>1</td>\n",
       "      <td>112542.58</td>\n",
       "      <td>0</td>\n",
       "    </tr>\n",
       "    <tr>\n",
       "      <th>3</th>\n",
       "      <td>15619304</td>\n",
       "      <td>Onio</td>\n",
       "      <td>502</td>\n",
       "      <td>France</td>\n",
       "      <td>Female</td>\n",
       "      <td>42</td>\n",
       "      <td>8</td>\n",
       "      <td>159660.80</td>\n",
       "      <td>3</td>\n",
       "      <td>1</td>\n",
       "      <td>0</td>\n",
       "      <td>113931.57</td>\n",
       "      <td>1</td>\n",
       "    </tr>\n",
       "    <tr>\n",
       "      <th>4</th>\n",
       "      <td>15701354</td>\n",
       "      <td>Boni</td>\n",
       "      <td>699</td>\n",
       "      <td>France</td>\n",
       "      <td>Female</td>\n",
       "      <td>39</td>\n",
       "      <td>1</td>\n",
       "      <td>0.00</td>\n",
       "      <td>2</td>\n",
       "      <td>0</td>\n",
       "      <td>0</td>\n",
       "      <td>93826.63</td>\n",
       "      <td>0</td>\n",
       "    </tr>\n",
       "    <tr>\n",
       "      <th>5</th>\n",
       "      <td>15737888</td>\n",
       "      <td>Mitchell</td>\n",
       "      <td>850</td>\n",
       "      <td>Spain</td>\n",
       "      <td>Female</td>\n",
       "      <td>43</td>\n",
       "      <td>2</td>\n",
       "      <td>125510.82</td>\n",
       "      <td>1</td>\n",
       "      <td>1</td>\n",
       "      <td>1</td>\n",
       "      <td>79084.10</td>\n",
       "      <td>0</td>\n",
       "    </tr>\n",
       "  </tbody>\n",
       "</table>\n",
       "</div>"
      ],
      "text/plain": [
       "           CustomerId   Surname  CreditScore Geography  Gender  Age  Tenure  \\\n",
       "RowNumber                                                                     \n",
       "1            15634602  Hargrave          619    France  Female   42       2   \n",
       "2            15647311      Hill          608     Spain  Female   41       1   \n",
       "3            15619304      Onio          502    France  Female   42       8   \n",
       "4            15701354      Boni          699    France  Female   39       1   \n",
       "5            15737888  Mitchell          850     Spain  Female   43       2   \n",
       "\n",
       "             Balance  NumOfProducts  HasCrCard  IsActiveMember  \\\n",
       "RowNumber                                                        \n",
       "1               0.00              1          1               1   \n",
       "2           83807.86              1          0               1   \n",
       "3          159660.80              3          1               0   \n",
       "4               0.00              2          0               0   \n",
       "5          125510.82              1          1               1   \n",
       "\n",
       "           EstimatedSalary  Exited  \n",
       "RowNumber                           \n",
       "1                101348.88       1  \n",
       "2                112542.58       0  \n",
       "3                113931.57       1  \n",
       "4                 93826.63       0  \n",
       "5                 79084.10       0  "
      ]
     },
     "execution_count": 14,
     "metadata": {},
     "output_type": "execute_result"
    }
   ],
   "source": [
    "# Load dataset from kaggle \"churn-modelling\" dataset\n",
    "\n",
    "df = pd.read_csv('Churn_Modelling.csv', index_col=0)\n",
    "df.head()"
   ]
  },
  {
   "cell_type": "code",
   "execution_count": 15,
   "metadata": {
    "colab": {
     "base_uri": "https://localhost:8080/"
    },
    "execution": {
     "iopub.execute_input": "2023-02-24T14:05:28.349557Z",
     "iopub.status.busy": "2023-02-24T14:05:28.348839Z",
     "iopub.status.idle": "2023-02-24T14:05:28.357857Z",
     "shell.execute_reply": "2023-02-24T14:05:28.356939Z",
     "shell.execute_reply.started": "2023-02-24T14:05:28.349507Z"
    },
    "id": "LGjJZBOv-0AH",
    "outputId": "98881c22-25ed-4ac1-bb10-d3777cc905e3"
   },
   "outputs": [
    {
     "data": {
      "text/plain": [
       "(10000, 13)"
      ]
     },
     "execution_count": 15,
     "metadata": {},
     "output_type": "execute_result"
    }
   ],
   "source": [
    "# Shape of data\n",
    "\n",
    "df.shape"
   ]
  },
  {
   "cell_type": "code",
   "execution_count": 16,
   "metadata": {
    "colab": {
     "base_uri": "https://localhost:8080/",
     "height": 458
    },
    "execution": {
     "iopub.execute_input": "2023-02-24T14:05:28.788040Z",
     "iopub.status.busy": "2023-02-24T14:05:28.787339Z",
     "iopub.status.idle": "2023-02-24T14:05:28.838918Z",
     "shell.execute_reply": "2023-02-24T14:05:28.837862Z",
     "shell.execute_reply.started": "2023-02-24T14:05:28.788002Z"
    },
    "id": "oWsetoYV-0AI",
    "outputId": "2a23c884-a045-4096-9fd7-a2a21015c55a"
   },
   "outputs": [
    {
     "data": {
      "text/html": [
       "<div>\n",
       "<style scoped>\n",
       "    .dataframe tbody tr th:only-of-type {\n",
       "        vertical-align: middle;\n",
       "    }\n",
       "\n",
       "    .dataframe tbody tr th {\n",
       "        vertical-align: top;\n",
       "    }\n",
       "\n",
       "    .dataframe thead th {\n",
       "        text-align: right;\n",
       "    }\n",
       "</style>\n",
       "<table border=\"1\" class=\"dataframe\">\n",
       "  <thead>\n",
       "    <tr style=\"text-align: right;\">\n",
       "      <th></th>\n",
       "      <th>CustomerId</th>\n",
       "      <th>Surname</th>\n",
       "      <th>CreditScore</th>\n",
       "      <th>Geography</th>\n",
       "      <th>Gender</th>\n",
       "      <th>Age</th>\n",
       "      <th>Tenure</th>\n",
       "      <th>Balance</th>\n",
       "      <th>NumOfProducts</th>\n",
       "      <th>HasCrCard</th>\n",
       "      <th>IsActiveMember</th>\n",
       "      <th>EstimatedSalary</th>\n",
       "      <th>Exited</th>\n",
       "    </tr>\n",
       "  </thead>\n",
       "  <tbody>\n",
       "    <tr>\n",
       "      <th>count</th>\n",
       "      <td>1.000000e+04</td>\n",
       "      <td>10000</td>\n",
       "      <td>10000.000000</td>\n",
       "      <td>10000</td>\n",
       "      <td>10000</td>\n",
       "      <td>10000.000000</td>\n",
       "      <td>10000.000000</td>\n",
       "      <td>10000.000000</td>\n",
       "      <td>10000.000000</td>\n",
       "      <td>10000.00000</td>\n",
       "      <td>10000.000000</td>\n",
       "      <td>10000.000000</td>\n",
       "      <td>10000.000000</td>\n",
       "    </tr>\n",
       "    <tr>\n",
       "      <th>unique</th>\n",
       "      <td>NaN</td>\n",
       "      <td>2932</td>\n",
       "      <td>NaN</td>\n",
       "      <td>3</td>\n",
       "      <td>2</td>\n",
       "      <td>NaN</td>\n",
       "      <td>NaN</td>\n",
       "      <td>NaN</td>\n",
       "      <td>NaN</td>\n",
       "      <td>NaN</td>\n",
       "      <td>NaN</td>\n",
       "      <td>NaN</td>\n",
       "      <td>NaN</td>\n",
       "    </tr>\n",
       "    <tr>\n",
       "      <th>top</th>\n",
       "      <td>NaN</td>\n",
       "      <td>Smith</td>\n",
       "      <td>NaN</td>\n",
       "      <td>France</td>\n",
       "      <td>Male</td>\n",
       "      <td>NaN</td>\n",
       "      <td>NaN</td>\n",
       "      <td>NaN</td>\n",
       "      <td>NaN</td>\n",
       "      <td>NaN</td>\n",
       "      <td>NaN</td>\n",
       "      <td>NaN</td>\n",
       "      <td>NaN</td>\n",
       "    </tr>\n",
       "    <tr>\n",
       "      <th>freq</th>\n",
       "      <td>NaN</td>\n",
       "      <td>32</td>\n",
       "      <td>NaN</td>\n",
       "      <td>5014</td>\n",
       "      <td>5457</td>\n",
       "      <td>NaN</td>\n",
       "      <td>NaN</td>\n",
       "      <td>NaN</td>\n",
       "      <td>NaN</td>\n",
       "      <td>NaN</td>\n",
       "      <td>NaN</td>\n",
       "      <td>NaN</td>\n",
       "      <td>NaN</td>\n",
       "    </tr>\n",
       "    <tr>\n",
       "      <th>mean</th>\n",
       "      <td>1.569094e+07</td>\n",
       "      <td>NaN</td>\n",
       "      <td>650.528800</td>\n",
       "      <td>NaN</td>\n",
       "      <td>NaN</td>\n",
       "      <td>38.921800</td>\n",
       "      <td>5.012800</td>\n",
       "      <td>76485.889288</td>\n",
       "      <td>1.530200</td>\n",
       "      <td>0.70550</td>\n",
       "      <td>0.515100</td>\n",
       "      <td>100090.239881</td>\n",
       "      <td>0.203700</td>\n",
       "    </tr>\n",
       "    <tr>\n",
       "      <th>std</th>\n",
       "      <td>7.193619e+04</td>\n",
       "      <td>NaN</td>\n",
       "      <td>96.653299</td>\n",
       "      <td>NaN</td>\n",
       "      <td>NaN</td>\n",
       "      <td>10.487806</td>\n",
       "      <td>2.892174</td>\n",
       "      <td>62397.405202</td>\n",
       "      <td>0.581654</td>\n",
       "      <td>0.45584</td>\n",
       "      <td>0.499797</td>\n",
       "      <td>57510.492818</td>\n",
       "      <td>0.402769</td>\n",
       "    </tr>\n",
       "    <tr>\n",
       "      <th>min</th>\n",
       "      <td>1.556570e+07</td>\n",
       "      <td>NaN</td>\n",
       "      <td>350.000000</td>\n",
       "      <td>NaN</td>\n",
       "      <td>NaN</td>\n",
       "      <td>18.000000</td>\n",
       "      <td>0.000000</td>\n",
       "      <td>0.000000</td>\n",
       "      <td>1.000000</td>\n",
       "      <td>0.00000</td>\n",
       "      <td>0.000000</td>\n",
       "      <td>11.580000</td>\n",
       "      <td>0.000000</td>\n",
       "    </tr>\n",
       "    <tr>\n",
       "      <th>25%</th>\n",
       "      <td>1.562853e+07</td>\n",
       "      <td>NaN</td>\n",
       "      <td>584.000000</td>\n",
       "      <td>NaN</td>\n",
       "      <td>NaN</td>\n",
       "      <td>32.000000</td>\n",
       "      <td>3.000000</td>\n",
       "      <td>0.000000</td>\n",
       "      <td>1.000000</td>\n",
       "      <td>0.00000</td>\n",
       "      <td>0.000000</td>\n",
       "      <td>51002.110000</td>\n",
       "      <td>0.000000</td>\n",
       "    </tr>\n",
       "    <tr>\n",
       "      <th>50%</th>\n",
       "      <td>1.569074e+07</td>\n",
       "      <td>NaN</td>\n",
       "      <td>652.000000</td>\n",
       "      <td>NaN</td>\n",
       "      <td>NaN</td>\n",
       "      <td>37.000000</td>\n",
       "      <td>5.000000</td>\n",
       "      <td>97198.540000</td>\n",
       "      <td>1.000000</td>\n",
       "      <td>1.00000</td>\n",
       "      <td>1.000000</td>\n",
       "      <td>100193.915000</td>\n",
       "      <td>0.000000</td>\n",
       "    </tr>\n",
       "    <tr>\n",
       "      <th>75%</th>\n",
       "      <td>1.575323e+07</td>\n",
       "      <td>NaN</td>\n",
       "      <td>718.000000</td>\n",
       "      <td>NaN</td>\n",
       "      <td>NaN</td>\n",
       "      <td>44.000000</td>\n",
       "      <td>7.000000</td>\n",
       "      <td>127644.240000</td>\n",
       "      <td>2.000000</td>\n",
       "      <td>1.00000</td>\n",
       "      <td>1.000000</td>\n",
       "      <td>149388.247500</td>\n",
       "      <td>0.000000</td>\n",
       "    </tr>\n",
       "    <tr>\n",
       "      <th>max</th>\n",
       "      <td>1.581569e+07</td>\n",
       "      <td>NaN</td>\n",
       "      <td>850.000000</td>\n",
       "      <td>NaN</td>\n",
       "      <td>NaN</td>\n",
       "      <td>92.000000</td>\n",
       "      <td>10.000000</td>\n",
       "      <td>250898.090000</td>\n",
       "      <td>4.000000</td>\n",
       "      <td>1.00000</td>\n",
       "      <td>1.000000</td>\n",
       "      <td>199992.480000</td>\n",
       "      <td>1.000000</td>\n",
       "    </tr>\n",
       "  </tbody>\n",
       "</table>\n",
       "</div>"
      ],
      "text/plain": [
       "          CustomerId Surname   CreditScore Geography Gender           Age  \\\n",
       "count   1.000000e+04   10000  10000.000000     10000  10000  10000.000000   \n",
       "unique           NaN    2932           NaN         3      2           NaN   \n",
       "top              NaN   Smith           NaN    France   Male           NaN   \n",
       "freq             NaN      32           NaN      5014   5457           NaN   \n",
       "mean    1.569094e+07     NaN    650.528800       NaN    NaN     38.921800   \n",
       "std     7.193619e+04     NaN     96.653299       NaN    NaN     10.487806   \n",
       "min     1.556570e+07     NaN    350.000000       NaN    NaN     18.000000   \n",
       "25%     1.562853e+07     NaN    584.000000       NaN    NaN     32.000000   \n",
       "50%     1.569074e+07     NaN    652.000000       NaN    NaN     37.000000   \n",
       "75%     1.575323e+07     NaN    718.000000       NaN    NaN     44.000000   \n",
       "max     1.581569e+07     NaN    850.000000       NaN    NaN     92.000000   \n",
       "\n",
       "              Tenure        Balance  NumOfProducts    HasCrCard  \\\n",
       "count   10000.000000   10000.000000   10000.000000  10000.00000   \n",
       "unique           NaN            NaN            NaN          NaN   \n",
       "top              NaN            NaN            NaN          NaN   \n",
       "freq             NaN            NaN            NaN          NaN   \n",
       "mean        5.012800   76485.889288       1.530200      0.70550   \n",
       "std         2.892174   62397.405202       0.581654      0.45584   \n",
       "min         0.000000       0.000000       1.000000      0.00000   \n",
       "25%         3.000000       0.000000       1.000000      0.00000   \n",
       "50%         5.000000   97198.540000       1.000000      1.00000   \n",
       "75%         7.000000  127644.240000       2.000000      1.00000   \n",
       "max        10.000000  250898.090000       4.000000      1.00000   \n",
       "\n",
       "        IsActiveMember  EstimatedSalary        Exited  \n",
       "count     10000.000000     10000.000000  10000.000000  \n",
       "unique             NaN              NaN           NaN  \n",
       "top                NaN              NaN           NaN  \n",
       "freq               NaN              NaN           NaN  \n",
       "mean          0.515100    100090.239881      0.203700  \n",
       "std           0.499797     57510.492818      0.402769  \n",
       "min           0.000000        11.580000      0.000000  \n",
       "25%           0.000000     51002.110000      0.000000  \n",
       "50%           1.000000    100193.915000      0.000000  \n",
       "75%           1.000000    149388.247500      0.000000  \n",
       "max           1.000000    199992.480000      1.000000  "
      ]
     },
     "execution_count": 16,
     "metadata": {},
     "output_type": "execute_result"
    }
   ],
   "source": [
    "# Numeric description about all columns \n",
    "\n",
    "df.describe(include='all')"
   ]
  },
  {
   "cell_type": "code",
   "execution_count": 17,
   "metadata": {
    "colab": {
     "base_uri": "https://localhost:8080/"
    },
    "execution": {
     "iopub.execute_input": "2023-02-24T14:05:29.062132Z",
     "iopub.status.busy": "2023-02-24T14:05:29.061726Z",
     "iopub.status.idle": "2023-02-24T14:05:29.077427Z",
     "shell.execute_reply": "2023-02-24T14:05:29.075977Z",
     "shell.execute_reply.started": "2023-02-24T14:05:29.062100Z"
    },
    "id": "UivUVkWb-0AI",
    "outputId": "a4e12d37-05a3-49bd-f2f1-0d91975cf4cb"
   },
   "outputs": [
    {
     "data": {
      "text/plain": [
       "CustomerId           int64\n",
       "Surname             object\n",
       "CreditScore          int64\n",
       "Geography           object\n",
       "Gender              object\n",
       "Age                  int64\n",
       "Tenure               int64\n",
       "Balance            float64\n",
       "NumOfProducts        int64\n",
       "HasCrCard            int64\n",
       "IsActiveMember       int64\n",
       "EstimatedSalary    float64\n",
       "Exited               int64\n",
       "dtype: object"
      ]
     },
     "execution_count": 17,
     "metadata": {},
     "output_type": "execute_result"
    }
   ],
   "source": [
    "df.dtypes"
   ]
  },
  {
   "cell_type": "code",
   "execution_count": 18,
   "metadata": {
    "execution": {
     "iopub.execute_input": "2023-02-24T14:05:29.344720Z",
     "iopub.status.busy": "2023-02-24T14:05:29.344162Z",
     "iopub.status.idle": "2023-02-24T14:05:29.366013Z",
     "shell.execute_reply": "2023-02-24T14:05:29.365112Z",
     "shell.execute_reply.started": "2023-02-24T14:05:29.344679Z"
    },
    "id": "fjhpGlqj-0AI"
   },
   "outputs": [
    {
     "data": {
      "text/html": [
       "<div>\n",
       "<style scoped>\n",
       "    .dataframe tbody tr th:only-of-type {\n",
       "        vertical-align: middle;\n",
       "    }\n",
       "\n",
       "    .dataframe tbody tr th {\n",
       "        vertical-align: top;\n",
       "    }\n",
       "\n",
       "    .dataframe thead th {\n",
       "        text-align: right;\n",
       "    }\n",
       "</style>\n",
       "<table border=\"1\" class=\"dataframe\">\n",
       "  <thead>\n",
       "    <tr style=\"text-align: right;\">\n",
       "      <th></th>\n",
       "      <th>CreditScore</th>\n",
       "      <th>Geography</th>\n",
       "      <th>Gender</th>\n",
       "      <th>Age</th>\n",
       "      <th>Tenure</th>\n",
       "      <th>Balance</th>\n",
       "      <th>NumOfProducts</th>\n",
       "      <th>HasCrCard</th>\n",
       "      <th>IsActiveMember</th>\n",
       "      <th>EstimatedSalary</th>\n",
       "      <th>Exited</th>\n",
       "    </tr>\n",
       "    <tr>\n",
       "      <th>RowNumber</th>\n",
       "      <th></th>\n",
       "      <th></th>\n",
       "      <th></th>\n",
       "      <th></th>\n",
       "      <th></th>\n",
       "      <th></th>\n",
       "      <th></th>\n",
       "      <th></th>\n",
       "      <th></th>\n",
       "      <th></th>\n",
       "      <th></th>\n",
       "    </tr>\n",
       "  </thead>\n",
       "  <tbody>\n",
       "    <tr>\n",
       "      <th>1</th>\n",
       "      <td>619</td>\n",
       "      <td>France</td>\n",
       "      <td>Female</td>\n",
       "      <td>42</td>\n",
       "      <td>2</td>\n",
       "      <td>0.00</td>\n",
       "      <td>1</td>\n",
       "      <td>1</td>\n",
       "      <td>1</td>\n",
       "      <td>101348.88</td>\n",
       "      <td>1</td>\n",
       "    </tr>\n",
       "    <tr>\n",
       "      <th>2</th>\n",
       "      <td>608</td>\n",
       "      <td>Spain</td>\n",
       "      <td>Female</td>\n",
       "      <td>41</td>\n",
       "      <td>1</td>\n",
       "      <td>83807.86</td>\n",
       "      <td>1</td>\n",
       "      <td>0</td>\n",
       "      <td>1</td>\n",
       "      <td>112542.58</td>\n",
       "      <td>0</td>\n",
       "    </tr>\n",
       "    <tr>\n",
       "      <th>3</th>\n",
       "      <td>502</td>\n",
       "      <td>France</td>\n",
       "      <td>Female</td>\n",
       "      <td>42</td>\n",
       "      <td>8</td>\n",
       "      <td>159660.80</td>\n",
       "      <td>3</td>\n",
       "      <td>1</td>\n",
       "      <td>0</td>\n",
       "      <td>113931.57</td>\n",
       "      <td>1</td>\n",
       "    </tr>\n",
       "    <tr>\n",
       "      <th>4</th>\n",
       "      <td>699</td>\n",
       "      <td>France</td>\n",
       "      <td>Female</td>\n",
       "      <td>39</td>\n",
       "      <td>1</td>\n",
       "      <td>0.00</td>\n",
       "      <td>2</td>\n",
       "      <td>0</td>\n",
       "      <td>0</td>\n",
       "      <td>93826.63</td>\n",
       "      <td>0</td>\n",
       "    </tr>\n",
       "    <tr>\n",
       "      <th>5</th>\n",
       "      <td>850</td>\n",
       "      <td>Spain</td>\n",
       "      <td>Female</td>\n",
       "      <td>43</td>\n",
       "      <td>2</td>\n",
       "      <td>125510.82</td>\n",
       "      <td>1</td>\n",
       "      <td>1</td>\n",
       "      <td>1</td>\n",
       "      <td>79084.10</td>\n",
       "      <td>0</td>\n",
       "    </tr>\n",
       "  </tbody>\n",
       "</table>\n",
       "</div>"
      ],
      "text/plain": [
       "           CreditScore Geography  Gender  Age  Tenure    Balance  \\\n",
       "RowNumber                                                          \n",
       "1                  619    France  Female   42       2       0.00   \n",
       "2                  608     Spain  Female   41       1   83807.86   \n",
       "3                  502    France  Female   42       8  159660.80   \n",
       "4                  699    France  Female   39       1       0.00   \n",
       "5                  850     Spain  Female   43       2  125510.82   \n",
       "\n",
       "           NumOfProducts  HasCrCard  IsActiveMember  EstimatedSalary  Exited  \n",
       "RowNumber                                                                     \n",
       "1                      1          1               1        101348.88       1  \n",
       "2                      1          0               1        112542.58       0  \n",
       "3                      3          1               0        113931.57       1  \n",
       "4                      2          0               0         93826.63       0  \n",
       "5                      1          1               1         79084.10       0  "
      ]
     },
     "execution_count": 18,
     "metadata": {},
     "output_type": "execute_result"
    }
   ],
   "source": [
    "# Columns: \"CustomerId\", \"Surname\" dropped because there is no such stron connection with Target column\n",
    "\n",
    "df.drop([\"CustomerId\", \"Surname\"], axis=1, inplace=True)\n",
    "df.head()"
   ]
  },
  {
   "cell_type": "code",
   "execution_count": 19,
   "metadata": {
    "colab": {
     "base_uri": "https://localhost:8080/"
    },
    "execution": {
     "iopub.execute_input": "2023-02-24T14:05:29.565318Z",
     "iopub.status.busy": "2023-02-24T14:05:29.564910Z",
     "iopub.status.idle": "2023-02-24T14:05:29.575610Z",
     "shell.execute_reply": "2023-02-24T14:05:29.574473Z",
     "shell.execute_reply.started": "2023-02-24T14:05:29.565287Z"
    },
    "id": "hHN_meDw-0AJ",
    "outputId": "94114242-5f5d-4d97-a7b6-33e6191a8571"
   },
   "outputs": [
    {
     "data": {
      "text/plain": [
       "France     5014\n",
       "Germany    2509\n",
       "Spain      2477\n",
       "Name: Geography, dtype: int64"
      ]
     },
     "execution_count": 19,
     "metadata": {},
     "output_type": "execute_result"
    }
   ],
   "source": [
    "df['Geography'].value_counts()"
   ]
  },
  {
   "cell_type": "code",
   "execution_count": 20,
   "metadata": {
    "colab": {
     "base_uri": "https://localhost:8080/"
    },
    "execution": {
     "iopub.execute_input": "2023-02-24T14:05:29.781303Z",
     "iopub.status.busy": "2023-02-24T14:05:29.780942Z",
     "iopub.status.idle": "2023-02-24T14:05:29.790192Z",
     "shell.execute_reply": "2023-02-24T14:05:29.788963Z",
     "shell.execute_reply.started": "2023-02-24T14:05:29.781274Z"
    },
    "id": "A6xRzIqo-0AK",
    "outputId": "9eb30de6-5768-4c1f-c0eb-e758fe8a5880"
   },
   "outputs": [
    {
     "data": {
      "text/plain": [
       "Male      5457\n",
       "Female    4543\n",
       "Name: Gender, dtype: int64"
      ]
     },
     "execution_count": 20,
     "metadata": {},
     "output_type": "execute_result"
    }
   ],
   "source": [
    "df['Gender'].value_counts()"
   ]
  },
  {
   "cell_type": "code",
   "execution_count": 21,
   "metadata": {
    "colab": {
     "base_uri": "https://localhost:8080/",
     "height": 301
    },
    "execution": {
     "iopub.execute_input": "2023-02-24T14:05:29.982969Z",
     "iopub.status.busy": "2023-02-24T14:05:29.982660Z",
     "iopub.status.idle": "2023-02-24T14:05:30.008502Z",
     "shell.execute_reply": "2023-02-24T14:05:30.007591Z",
     "shell.execute_reply.started": "2023-02-24T14:05:29.982942Z"
    },
    "id": "zSdm7gyU-0AK",
    "outputId": "1fe305dc-d4fe-4dca-c5c4-e53eb88f8647"
   },
   "outputs": [
    {
     "data": {
      "text/html": [
       "<div>\n",
       "<style scoped>\n",
       "    .dataframe tbody tr th:only-of-type {\n",
       "        vertical-align: middle;\n",
       "    }\n",
       "\n",
       "    .dataframe tbody tr th {\n",
       "        vertical-align: top;\n",
       "    }\n",
       "\n",
       "    .dataframe thead th {\n",
       "        text-align: right;\n",
       "    }\n",
       "</style>\n",
       "<table border=\"1\" class=\"dataframe\">\n",
       "  <thead>\n",
       "    <tr style=\"text-align: right;\">\n",
       "      <th></th>\n",
       "      <th>CreditScore</th>\n",
       "      <th>Age</th>\n",
       "      <th>Tenure</th>\n",
       "      <th>Balance</th>\n",
       "      <th>NumOfProducts</th>\n",
       "      <th>HasCrCard</th>\n",
       "      <th>IsActiveMember</th>\n",
       "      <th>EstimatedSalary</th>\n",
       "      <th>Exited</th>\n",
       "      <th>Geography_France</th>\n",
       "      <th>Geography_Germany</th>\n",
       "      <th>Geography_Spain</th>\n",
       "      <th>Gender_Female</th>\n",
       "      <th>Gender_Male</th>\n",
       "    </tr>\n",
       "    <tr>\n",
       "      <th>RowNumber</th>\n",
       "      <th></th>\n",
       "      <th></th>\n",
       "      <th></th>\n",
       "      <th></th>\n",
       "      <th></th>\n",
       "      <th></th>\n",
       "      <th></th>\n",
       "      <th></th>\n",
       "      <th></th>\n",
       "      <th></th>\n",
       "      <th></th>\n",
       "      <th></th>\n",
       "      <th></th>\n",
       "      <th></th>\n",
       "    </tr>\n",
       "  </thead>\n",
       "  <tbody>\n",
       "    <tr>\n",
       "      <th>4841</th>\n",
       "      <td>411</td>\n",
       "      <td>35</td>\n",
       "      <td>2</td>\n",
       "      <td>0.00</td>\n",
       "      <td>2</td>\n",
       "      <td>1</td>\n",
       "      <td>1</td>\n",
       "      <td>93825.78</td>\n",
       "      <td>0</td>\n",
       "      <td>1</td>\n",
       "      <td>0</td>\n",
       "      <td>0</td>\n",
       "      <td>1</td>\n",
       "      <td>0</td>\n",
       "    </tr>\n",
       "    <tr>\n",
       "      <th>3342</th>\n",
       "      <td>718</td>\n",
       "      <td>29</td>\n",
       "      <td>3</td>\n",
       "      <td>0.00</td>\n",
       "      <td>1</td>\n",
       "      <td>0</td>\n",
       "      <td>1</td>\n",
       "      <td>134462.29</td>\n",
       "      <td>0</td>\n",
       "      <td>1</td>\n",
       "      <td>0</td>\n",
       "      <td>0</td>\n",
       "      <td>1</td>\n",
       "      <td>0</td>\n",
       "    </tr>\n",
       "    <tr>\n",
       "      <th>3212</th>\n",
       "      <td>686</td>\n",
       "      <td>27</td>\n",
       "      <td>1</td>\n",
       "      <td>115095.88</td>\n",
       "      <td>2</td>\n",
       "      <td>0</td>\n",
       "      <td>0</td>\n",
       "      <td>78622.46</td>\n",
       "      <td>0</td>\n",
       "      <td>0</td>\n",
       "      <td>1</td>\n",
       "      <td>0</td>\n",
       "      <td>1</td>\n",
       "      <td>0</td>\n",
       "    </tr>\n",
       "    <tr>\n",
       "      <th>2495</th>\n",
       "      <td>666</td>\n",
       "      <td>46</td>\n",
       "      <td>5</td>\n",
       "      <td>123873.19</td>\n",
       "      <td>1</td>\n",
       "      <td>1</td>\n",
       "      <td>1</td>\n",
       "      <td>177844.06</td>\n",
       "      <td>0</td>\n",
       "      <td>1</td>\n",
       "      <td>0</td>\n",
       "      <td>0</td>\n",
       "      <td>0</td>\n",
       "      <td>1</td>\n",
       "    </tr>\n",
       "    <tr>\n",
       "      <th>2761</th>\n",
       "      <td>557</td>\n",
       "      <td>68</td>\n",
       "      <td>2</td>\n",
       "      <td>100194.44</td>\n",
       "      <td>1</td>\n",
       "      <td>1</td>\n",
       "      <td>1</td>\n",
       "      <td>38596.34</td>\n",
       "      <td>0</td>\n",
       "      <td>0</td>\n",
       "      <td>1</td>\n",
       "      <td>0</td>\n",
       "      <td>0</td>\n",
       "      <td>1</td>\n",
       "    </tr>\n",
       "  </tbody>\n",
       "</table>\n",
       "</div>"
      ],
      "text/plain": [
       "           CreditScore  Age  Tenure    Balance  NumOfProducts  HasCrCard  \\\n",
       "RowNumber                                                                  \n",
       "4841               411   35       2       0.00              2          1   \n",
       "3342               718   29       3       0.00              1          0   \n",
       "3212               686   27       1  115095.88              2          0   \n",
       "2495               666   46       5  123873.19              1          1   \n",
       "2761               557   68       2  100194.44              1          1   \n",
       "\n",
       "           IsActiveMember  EstimatedSalary  Exited  Geography_France  \\\n",
       "RowNumber                                                              \n",
       "4841                    1         93825.78       0                 1   \n",
       "3342                    1        134462.29       0                 1   \n",
       "3212                    0         78622.46       0                 0   \n",
       "2495                    1        177844.06       0                 1   \n",
       "2761                    1         38596.34       0                 0   \n",
       "\n",
       "           Geography_Germany  Geography_Spain  Gender_Female  Gender_Male  \n",
       "RowNumber                                                                  \n",
       "4841                       0                0              1            0  \n",
       "3342                       0                0              1            0  \n",
       "3212                       1                0              1            0  \n",
       "2495                       0                0              0            1  \n",
       "2761                       1                0              0            1  "
      ]
     },
     "execution_count": 21,
     "metadata": {},
     "output_type": "execute_result"
    }
   ],
   "source": [
    "# Encoding categorical columns into numeric\n",
    "\n",
    "data = pd.get_dummies(df)\n",
    "data.sample(5)"
   ]
  },
  {
   "cell_type": "code",
   "execution_count": 22,
   "metadata": {
    "execution": {
     "iopub.execute_input": "2023-02-24T14:05:30.187469Z",
     "iopub.status.busy": "2023-02-24T14:05:30.187127Z",
     "iopub.status.idle": "2023-02-24T14:05:30.197572Z",
     "shell.execute_reply": "2023-02-24T14:05:30.196515Z",
     "shell.execute_reply.started": "2023-02-24T14:05:30.187441Z"
    },
    "id": "zP77UInG-0AK"
   },
   "outputs": [],
   "source": [
    "# Here is i made function which shows proportion of input column categories with target column categories\n",
    "\n",
    "def proportion_stat(column):\n",
    "    plt.figure(figsize = (10,5))\n",
    "    \n",
    "    DATA_GROUPED = df.groupby(column)['Exited']\n",
    "    DF_SER = DATA_GROUPED.value_counts()\n",
    "    DF = DF_SER.unstack()\n",
    "    DF = DF.reset_index()\n",
    "    DF.index.name = ''\n",
    "    DF.columns.name = ''\n",
    "    DF.columns = ['Item', 'Not Exited', 'Exited']\n",
    "\n",
    "    DF_INFO = DF.copy()\n",
    "    DF_INFO['Overall'] = DF_INFO['Not Exited'] + DF_INFO['Exited']\n",
    "    DF_INFO['(%) Not Exited'] = np.round(DF_INFO['Not Exited'] / DF_INFO['Overall'] * 100)\n",
    "    DF_INFO['(%) Exited'] = 100 - DF_INFO['(%) Not Exited']\n",
    "    DF_INFO = DF_INFO[['Item', 'Not Exited', '(%) Not Exited', 'Exited', '(%) Exited', 'Overall']]\n",
    "\n",
    "    DF_MELTED = DF.melt(id_vars='Item', var_name='Status', value_name='Count')\n",
    "\n",
    "    figure = sns.barplot(x='Item', y='Count', hue='Status', data=DF_MELTED, palette = 'Blues')\n",
    "\n",
    "    plt.title(f'Distribution of Not Exited and Exited clients by {column}', fontdict={'fontsize' : 14})\n",
    "    plt.xlabel(column, fontdict={'fontsize' : 12})\n",
    "    plt.ylabel(\"Count\", fontdict={'fontsize' : 12})\n",
    "    \n",
    "    return DF_INFO, figure"
   ]
  },
  {
   "cell_type": "code",
   "execution_count": 23,
   "metadata": {
    "colab": {
     "base_uri": "https://localhost:8080/",
     "height": 1000
    },
    "execution": {
     "iopub.execute_input": "2023-02-24T14:05:30.397693Z",
     "iopub.status.busy": "2023-02-24T14:05:30.396986Z",
     "iopub.status.idle": "2023-02-24T14:05:32.074953Z",
     "shell.execute_reply": "2023-02-24T14:05:32.073835Z",
     "shell.execute_reply.started": "2023-02-24T14:05:30.397650Z"
    },
    "id": "0snX8_mr-0Ad",
    "outputId": "6f5328db-e9a3-4c72-b069-363156218751",
    "scrolled": false
   },
   "outputs": [
    {
     "data": {
      "image/png": "[encoded data removed]",
      "text/plain": [
       "<Figure size 720x360 with 1 Axes>"
      ]
     },
     "metadata": {
      "needs_background": "light"
     },
     "output_type": "display_data"
    },
    {
     "data": {
      "image/png": "[encoded data removed]",
      "text/plain": [
       "<Figure size 720x360 with 1 Axes>"
      ]
     },
     "metadata": {
      "needs_background": "light"
     },
     "output_type": "display_data"
    },
    {
     "data": {
      "image/png": "[encoded data removed]",
      "text/plain": [
       "<Figure size 720x360 with 1 Axes>"
      ]
     },
     "metadata": {
      "needs_background": "light"
     },
     "output_type": "display_data"
    },
    {
     "data": {
      "image/png": "[encoded data removed]",
      "text/plain": [
       "<Figure size 720x360 with 1 Axes>"
      ]
     },
     "metadata": {
      "needs_background": "light"
     },
     "output_type": "display_data"
    },
    {
     "data": {
      "image/png": "[encoded data removed]",
      "text/plain": [
       "<Figure size 720x360 with 1 Axes>"
      ]
     },
     "metadata": {
      "needs_background": "light"
     },
     "output_type": "display_data"
    },
    {
     "data": {
      "image/png": "[encoded data removed]",
      "text/plain": [
       "<Figure size 720x360 with 1 Axes>"
      ]
     },
     "metadata": {
      "needs_background": "light"
     },
     "output_type": "display_data"
    }
   ],
   "source": [
    "list_of_columns = df[['Geography', 'Gender', 'Tenure', 'NumOfProducts', 'HasCrCard', 'IsActiveMember']]  \n",
    "for column in list_of_columns:\n",
    "    proportion_stat(column)"
   ]
  },
  {
   "cell_type": "markdown",
   "metadata": {},
   "source": [
    "<a id=section-two></a>\n",
    "### <span style=\"color:#144272;font-weight:600;font-size:18px;font-style:sans-serif;\">By this graphs we can understand a big problem, we have unbalanced target data.</span>"
   ]
  },
  {
   "cell_type": "code",
   "execution_count": 24,
   "metadata": {
    "colab": {
     "base_uri": "https://localhost:8080/",
     "height": 404
    },
    "execution": {
     "iopub.execute_input": "2023-02-24T14:05:32.268424Z",
     "iopub.status.busy": "2023-02-24T14:05:32.268088Z",
     "iopub.status.idle": "2023-02-24T14:05:32.521534Z",
     "shell.execute_reply": "2023-02-24T14:05:32.520391Z",
     "shell.execute_reply.started": "2023-02-24T14:05:32.268391Z"
    },
    "id": "ApXC_HT9-0Ae",
    "outputId": "72a0824e-8ea8-40fe-fbf7-2b3ce044313a"
   },
   "outputs": [
    {
     "data": {
      "image/png": "[encoded data removed]",
      "text/plain": [
       "<Figure size 720x360 with 1 Axes>"
      ]
     },
     "metadata": {
      "needs_background": "light"
     },
     "output_type": "display_data"
    }
   ],
   "source": [
    "# Proportion of target categories\n",
    "\n",
    "plt.figure(figsize=(10,5)) \n",
    "plt.title('Balance between Exited and Not Exited clients', fontsize=12)\n",
    "ax = sns.countplot(data=data, x= 'Exited',hue='Exited', palette = 'Blues')\n",
    "\n",
    "#for container in ax.containers:\n",
    "#    ax.bar_label(container)\n",
    "plt.show()"
   ]
  },
  {
   "cell_type": "code",
   "execution_count": 25,
   "metadata": {
    "colab": {
     "base_uri": "https://localhost:8080/",
     "height": 404
    },
    "execution": {
     "iopub.execute_input": "2023-02-24T14:05:32.865326Z",
     "iopub.status.busy": "2023-02-24T14:05:32.864984Z",
     "iopub.status.idle": "2023-02-24T14:05:33.148275Z",
     "shell.execute_reply": "2023-02-24T14:05:33.147286Z",
     "shell.execute_reply.started": "2023-02-24T14:05:32.865296Z"
    },
    "id": "axXcig6u-0Af",
    "outputId": "aa3bf086-788b-4899-90e5-627f9f6fa287"
   },
   "outputs": [
    {
     "data": {
      "image/png": "[encoded data removed]",
      "text/plain": [
       "<Figure size 720x360 with 1 Axes>"
      ]
     },
     "metadata": {
      "needs_background": "light"
     },
     "output_type": "display_data"
    }
   ],
   "source": [
    "# Here is linegraph sum of Exited for each age \n",
    "\n",
    "plt.figure(figsize=(10,5)) \n",
    "plt.title('Total Exited for each Age', fontsize=12)\n",
    "\n",
    "df_age = df.groupby('Age').sum('Exited')[['Exited']]\n",
    "sns.lineplot(x = df_age.index, y = df_age.Exited)\n",
    "\n",
    "plt.ylabel('Total Exited')\n",
    "\n",
    "plt.show()"
   ]
  },
  {
   "cell_type": "code",
   "execution_count": 16,
   "metadata": {
    "execution": {
     "iopub.execute_input": "2023-02-24T14:05:33.917490Z",
     "iopub.status.busy": "2023-02-24T14:05:33.916558Z",
     "iopub.status.idle": "2023-02-24T14:05:33.924368Z",
     "shell.execute_reply": "2023-02-24T14:05:33.923229Z",
     "shell.execute_reply.started": "2023-02-24T14:05:33.917441Z"
    },
    "id": "q864ki6A-0Af"
   },
   "outputs": [],
   "source": [
    "# Separate columns into input and output  \n",
    "\n",
    "X_data = data.drop('Exited', axis=1)\n",
    "y_data = data.Exited"
   ]
  },
  {
   "cell_type": "code",
   "execution_count": 17,
   "metadata": {
    "execution": {
     "iopub.execute_input": "2023-02-24T14:05:34.885475Z",
     "iopub.status.busy": "2023-02-24T14:05:34.884421Z",
     "iopub.status.idle": "2023-02-24T14:05:34.896864Z",
     "shell.execute_reply": "2023-02-24T14:05:34.895872Z",
     "shell.execute_reply.started": "2023-02-24T14:05:34.885433Z"
    },
    "id": "DO8jxheX-0Af"
   },
   "outputs": [],
   "source": [
    "# Spliting data into train and test datasets\n",
    "# In order to hold proportion used stratify\n",
    "\n",
    "X_train, X_test, y_train, y_test = train_test_split(X_data, y_data, test_size=0.1, stratify= y_data, random_state=73)"
   ]
  },
  {
   "cell_type": "code",
   "execution_count": 18,
   "metadata": {
    "colab": {
     "base_uri": "https://localhost:8080/"
    },
    "execution": {
     "iopub.execute_input": "2023-02-24T14:05:35.536091Z",
     "iopub.status.busy": "2023-02-24T14:05:35.535284Z",
     "iopub.status.idle": "2023-02-24T14:05:35.545848Z",
     "shell.execute_reply": "2023-02-24T14:05:35.544722Z",
     "shell.execute_reply.started": "2023-02-24T14:05:35.536054Z"
    },
    "id": "7i1J7kX1-0Ag",
    "outputId": "0e406f50-ab22-4cc4-a2f2-edd30972516a"
   },
   "outputs": [
    {
     "data": {
      "text/plain": [
       "0    0.7963\n",
       "1    0.2037\n",
       "Name: Exited, dtype: float64"
      ]
     },
     "execution_count": 18,
     "metadata": {},
     "output_type": "execute_result"
    }
   ],
   "source": [
    "y_data.value_counts(normalize=True)"
   ]
  },
  {
   "cell_type": "code",
   "execution_count": 19,
   "metadata": {
    "colab": {
     "base_uri": "https://localhost:8080/"
    },
    "execution": {
     "iopub.execute_input": "2023-02-24T14:05:36.286881Z",
     "iopub.status.busy": "2023-02-24T14:05:36.286216Z",
     "iopub.status.idle": "2023-02-24T14:05:36.296882Z",
     "shell.execute_reply": "2023-02-24T14:05:36.295617Z",
     "shell.execute_reply.started": "2023-02-24T14:05:36.286845Z"
    },
    "id": "NMqe4tsM-0Ag",
    "outputId": "15064f7d-af3a-4da1-a312-e1eebf837158"
   },
   "outputs": [
    {
     "data": {
      "text/plain": [
       "0    0.796333\n",
       "1    0.203667\n",
       "Name: Exited, dtype: float64"
      ]
     },
     "execution_count": 19,
     "metadata": {},
     "output_type": "execute_result"
    }
   ],
   "source": [
    "y_train.value_counts(normalize=True)"
   ]
  },
  {
   "cell_type": "markdown",
   "metadata": {
    "id": "4J_cA2M7-0Ag"
   },
   "source": [
    "<a id=section-two></a>\n",
    "# <span style=\"color:#144272;font-weight:600;font-size:18px;font-style:sans-serif;\">Model implementation"
   ]
  },
  {
   "cell_type": "markdown",
   "metadata": {},
   "source": [
    "<a id=section-two></a>\n",
    "> <span style=\"color:#144272;font-weight:600;font-size:16px;font-style:sans-serif;\">RandomForestClassifier</span>"
   ]
  },
  {
   "cell_type": "code",
   "execution_count": 20,
   "metadata": {
    "colab": {
     "base_uri": "https://localhost:8080/"
    },
    "execution": {
     "iopub.execute_input": "2023-02-24T14:05:40.605739Z",
     "iopub.status.busy": "2023-02-24T14:05:40.605312Z",
     "iopub.status.idle": "2023-02-24T14:14:11.180888Z",
     "shell.execute_reply": "2023-02-24T14:14:11.179910Z",
     "shell.execute_reply.started": "2023-02-24T14:05:40.605706Z"
    },
    "id": "bFzV2F4B6ZLt",
    "outputId": "293ac8d2-e2be-4ebc-ee59-54c009af312c"
   },
   "outputs": [
    {
     "name": "stdout",
     "output_type": "stream",
     "text": [
      "Best hyperparameters: {'n_estimators': 300, 'min_samples_split': 10, 'min_samples_leaf': 1, 'max_features': 'log2', 'max_depth': 10, 'class_weight': None}\n"
     ]
    }
   ],
   "source": [
    "rfc = RandomForestClassifier()\n",
    "\n",
    "# Define the hyperparameters and their respective ranges\n",
    "params = {\n",
    "    'n_estimators': [100, 200, 300, 400, 500],\n",
    "    'max_depth': [5, 10, 15],\n",
    "    'min_samples_split': [2, 5, 10],\n",
    "    'min_samples_leaf': [1, 2, 4],\n",
    "    'max_features': ['sqrt', 'log2'],\n",
    "    'class_weight': [None, 'balanced']\n",
    "}\n",
    "\n",
    "random_search_rfc = RandomizedSearchCV(rfc, params, n_iter=50, cv=5, random_state=73)\n",
    "random_search_rfc.fit(X_train, y_train)\n",
    "\n",
    "# Print the best hyperparameters\n",
    "print(\"Best hyperparameters:\", random_search_rfc.best_params_)"
   ]
  },
  {
   "cell_type": "code",
   "execution_count": 39,
   "metadata": {
    "execution": {
     "iopub.execute_input": "2023-02-24T15:33:07.253235Z",
     "iopub.status.busy": "2023-02-24T15:33:07.252771Z",
     "iopub.status.idle": "2023-02-24T15:33:07.597657Z",
     "shell.execute_reply": "2023-02-24T15:33:07.596392Z",
     "shell.execute_reply.started": "2023-02-24T15:33:07.253197Z"
    },
    "id": "VnX2Hxik9L79"
   },
   "outputs": [
    {
     "name": "stdout",
     "output_type": "stream",
     "text": [
      "RandomForestClassifier: 0.87\n"
     ]
    }
   ],
   "source": [
    "# Predict for test data\n",
    "\n",
    "pred_rfc = random_search_rfc.predict(X_test)\n",
    "rfc_score = random_search_rfc.score(X_test, y_test)\n",
    "\n",
    "print(f'RandomForestClassifier: {rfc_score}')"
   ]
  },
  {
   "cell_type": "code",
   "execution_count": 22,
   "metadata": {
    "colab": {
     "base_uri": "https://localhost:8080/",
     "height": 374
    },
    "execution": {
     "iopub.execute_input": "2023-02-24T14:15:59.095469Z",
     "iopub.status.busy": "2023-02-24T14:15:59.094979Z",
     "iopub.status.idle": "2023-02-24T14:15:59.283531Z",
     "shell.execute_reply": "2023-02-24T14:15:59.282462Z",
     "shell.execute_reply.started": "2023-02-24T14:15:59.095427Z"
    },
    "id": "T-RNVnAR6ZTA",
    "outputId": "f2fa957f-a2ce-4e2e-9e54-0a0f2439fe97"
   },
   "outputs": [
    {
     "data": {
      "image/png": "[encoded data removed]",
      "text/plain": [
       "<Figure size 600x600 with 1 Axes>"
      ]
     },
     "metadata": {},
     "output_type": "display_data"
    }
   ],
   "source": [
    "# Confusion matrix\n",
    "\n",
    "plt.figure(figsize = (6,6))\n",
    "sns.heatmap(confusion_matrix(y_test, pred_rfc), annot = True, fmt = '.0f', cbar = False, cmap=\"Blues\")\n",
    "plt.show()"
   ]
  },
  {
   "cell_type": "code",
   "execution_count": 23,
   "metadata": {
    "colab": {
     "base_uri": "https://localhost:8080/"
    },
    "execution": {
     "iopub.execute_input": "2023-02-24T14:16:04.425754Z",
     "iopub.status.busy": "2023-02-24T14:16:04.425399Z",
     "iopub.status.idle": "2023-02-24T14:16:04.439954Z",
     "shell.execute_reply": "2023-02-24T14:16:04.438966Z",
     "shell.execute_reply.started": "2023-02-24T14:16:04.425726Z"
    },
    "id": "_oaTXyLVEoZb",
    "outputId": "ad155e1d-917e-46b2-8620-8e486709a873"
   },
   "outputs": [
    {
     "name": "stdout",
     "output_type": "stream",
     "text": [
      "              precision    recall  f1-score   support\n",
      "\n",
      "           0       0.88      0.98      0.92       796\n",
      "           1       0.83      0.46      0.59       204\n",
      "\n",
      "    accuracy                           0.87      1000\n",
      "   macro avg       0.85      0.72      0.76      1000\n",
      "weighted avg       0.87      0.87      0.85      1000\n",
      "\n"
     ]
    }
   ],
   "source": [
    "# Classification report\n",
    "\n",
    "print(classification_report(y_test, pred_rfc))"
   ]
  },
  {
   "cell_type": "markdown",
   "metadata": {},
   "source": [
    "<a id=section-two></a>\n",
    "> <span style=\"color:#144272;font-weight:600;font-size:16px;font-style:sans-serif;\">GradientBoostingClassifier</span>"
   ]
  },
  {
   "cell_type": "code",
   "execution_count": 24,
   "metadata": {
    "execution": {
     "iopub.execute_input": "2023-02-24T14:16:07.180703Z",
     "iopub.status.busy": "2023-02-24T14:16:07.180138Z",
     "iopub.status.idle": "2023-02-24T14:35:58.804464Z",
     "shell.execute_reply": "2023-02-24T14:35:58.803253Z",
     "shell.execute_reply.started": "2023-02-24T14:16:07.180663Z"
    },
    "id": "GCVc0U0X6Z1B"
   },
   "outputs": [
    {
     "name": "stdout",
     "output_type": "stream",
     "text": [
      "Best hyperparameters: {'subsample': 0.5, 'n_estimators': 1000, 'min_samples_split': 5, 'max_depth': 5, 'learning_rate': 0.01}\n"
     ]
    }
   ],
   "source": [
    "gbc = GradientBoostingClassifier()\n",
    "\n",
    "# Define the hyperparameters and their respective ranges\n",
    "param_dist = {'n_estimators': [100, 500, 1000],\n",
    "              'max_depth': [3, 5, 7],\n",
    "              'learning_rate': [0.1, 0.01, 0.001],\n",
    "              'subsample': [1.0, 0.5, 0.1],\n",
    "              'min_samples_split': [2, 5, 10]}\n",
    "\n",
    "\n",
    "random_search_gbc = RandomizedSearchCV(gbc, param_distributions=param_dist, n_iter=50, cv=5, random_state=73)\n",
    "random_search_gbc.fit(X_train, y_train)\n",
    "\n",
    "# Print the best hyperparameters\n",
    "print(\"Best hyperparameters:\", random_search_gbc.best_params_)"
   ]
  },
  {
   "cell_type": "code",
   "execution_count": 38,
   "metadata": {
    "execution": {
     "iopub.execute_input": "2023-02-24T15:32:24.201477Z",
     "iopub.status.busy": "2023-02-24T15:32:24.201096Z",
     "iopub.status.idle": "2023-02-24T15:32:24.265767Z",
     "shell.execute_reply": "2023-02-24T15:32:24.264704Z",
     "shell.execute_reply.started": "2023-02-24T15:32:24.201444Z"
    },
    "id": "OWdVlbjB6Z3q"
   },
   "outputs": [
    {
     "name": "stdout",
     "output_type": "stream",
     "text": [
      "GradientBoostingClassifier: 0.876\n"
     ]
    }
   ],
   "source": [
    "# Predict for test data\n",
    "\n",
    "pred_gbc = random_search_gbc.predict(X_test)\n",
    "gbc_score = random_search_gbc.score(X_test, y_test)\n",
    "\n",
    "print(f'GradientBoostingClassifier: {gbc_score}')"
   ]
  },
  {
   "cell_type": "code",
   "execution_count": 27,
   "metadata": {
    "execution": {
     "iopub.execute_input": "2023-02-24T14:40:05.012083Z",
     "iopub.status.busy": "2023-02-24T14:40:05.011644Z",
     "iopub.status.idle": "2023-02-24T14:40:05.160630Z",
     "shell.execute_reply": "2023-02-24T14:40:05.159234Z",
     "shell.execute_reply.started": "2023-02-24T14:40:05.012043Z"
    },
    "id": "_33YLRlz6Z6Z"
   },
   "outputs": [
    {
     "data": {
      "image/png": "[encoded data removed]",
      "text/plain": [
       "<Figure size 600x600 with 1 Axes>"
      ]
     },
     "metadata": {},
     "output_type": "display_data"
    }
   ],
   "source": [
    "# Confusion matrix\n",
    "\n",
    "plt.figure(figsize = (6,6))\n",
    "sns.heatmap(confusion_matrix(y_test, pred_gbc), annot = True, fmt = '.0f', cbar = False, cmap=\"Blues\")\n",
    "plt.show()"
   ]
  },
  {
   "cell_type": "code",
   "execution_count": 28,
   "metadata": {
    "execution": {
     "iopub.execute_input": "2023-02-24T14:40:31.725992Z",
     "iopub.status.busy": "2023-02-24T14:40:31.725640Z",
     "iopub.status.idle": "2023-02-24T14:40:31.739189Z",
     "shell.execute_reply": "2023-02-24T14:40:31.737916Z",
     "shell.execute_reply.started": "2023-02-24T14:40:31.725964Z"
    }
   },
   "outputs": [
    {
     "name": "stdout",
     "output_type": "stream",
     "text": [
      "              precision    recall  f1-score   support\n",
      "\n",
      "           0       0.89      0.97      0.93       796\n",
      "           1       0.81      0.51      0.63       204\n",
      "\n",
      "    accuracy                           0.88      1000\n",
      "   macro avg       0.85      0.74      0.78      1000\n",
      "weighted avg       0.87      0.88      0.86      1000\n",
      "\n"
     ]
    }
   ],
   "source": [
    "# Classification report\n",
    "\n",
    "print(classification_report(y_test, pred_gbc))"
   ]
  },
  {
   "cell_type": "markdown",
   "metadata": {},
   "source": [
    "<a id=section-two></a>\n",
    "> <span style=\"color:#144272;font-weight:600;font-size:16px;font-style:sans-serif;\">XGBClassifier</span>"
   ]
  },
  {
   "cell_type": "code",
   "execution_count": 29,
   "metadata": {
    "execution": {
     "iopub.execute_input": "2023-02-24T14:41:10.626679Z",
     "iopub.status.busy": "2023-02-24T14:41:10.626289Z",
     "iopub.status.idle": "2023-02-24T14:52:16.916924Z",
     "shell.execute_reply": "2023-02-24T14:52:16.916065Z",
     "shell.execute_reply.started": "2023-02-24T14:41:10.626648Z"
    },
    "id": "26nw4-zm6Z9D"
   },
   "outputs": [
    {
     "name": "stdout",
     "output_type": "stream",
     "text": [
      "Best hyperparameters: {'subsample': 1.0, 'objective': 'binary:logistic', 'n_estimators': 400, 'min_child_weight': 1, 'max_depth': 5, 'learning_rate': 0.05, 'gamma': 0, 'colsample_bytree': 0.5}\n"
     ]
    }
   ],
   "source": [
    "xgb = XGBClassifier()\n",
    "\n",
    "# Define the hyperparameters and their respective ranges\n",
    "params = {\n",
    "    'n_estimators': [100, 200, 300, 400, 500],\n",
    "    'max_depth': [5, 10, 15],\n",
    "    'learning_rate': [0.01, 0.05, 0.1],\n",
    "    'subsample': [0.5, 0.7, 1.0],\n",
    "    'colsample_bytree': [0.5, 0.7, 1.0],\n",
    "    'gamma': [0, 0.5, 1, 1.5, 2],\n",
    "    'min_child_weight': [1, 3, 5],\n",
    "    'objective': ['binary:logistic']\n",
    "}\n",
    "\n",
    "random_search_xgb = RandomizedSearchCV(xgb, params, n_iter=50, cv=5, random_state=73)\n",
    "random_search_xgb.fit(X_train, y_train)\n",
    "\n",
    "# Print the best hyperparameters\n",
    "print(\"Best hyperparameters:\", random_search_xgb.best_params_)"
   ]
  },
  {
   "cell_type": "code",
   "execution_count": 37,
   "metadata": {
    "execution": {
     "iopub.execute_input": "2023-02-24T15:31:38.398338Z",
     "iopub.status.busy": "2023-02-24T15:31:38.397337Z",
     "iopub.status.idle": "2023-02-24T15:31:38.424511Z",
     "shell.execute_reply": "2023-02-24T15:31:38.423430Z",
     "shell.execute_reply.started": "2023-02-24T15:31:38.398301Z"
    },
    "id": "F875xsq9-0Ao"
   },
   "outputs": [
    {
     "name": "stdout",
     "output_type": "stream",
     "text": [
      "XGBClassifier score: 0.872\n"
     ]
    }
   ],
   "source": [
    "# Predict for test data\n",
    "\n",
    "pred_gbc = random_search_xgb.predict(X_test)\n",
    "xgb_score = random_search_xgb.score(X_test, y_test)\n",
    "\n",
    "print(f'XGBClassifier score: {xgb_score}')"
   ]
  },
  {
   "cell_type": "code",
   "execution_count": 34,
   "metadata": {
    "execution": {
     "iopub.execute_input": "2023-02-24T14:53:10.876962Z",
     "iopub.status.busy": "2023-02-24T14:53:10.876255Z",
     "iopub.status.idle": "2023-02-24T14:53:11.007617Z",
     "shell.execute_reply": "2023-02-24T14:53:11.006318Z",
     "shell.execute_reply.started": "2023-02-24T14:53:10.876925Z"
    }
   },
   "outputs": [
    {
     "data": {
      "image/png": "[encoded data removed]",
      "text/plain": [
       "<Figure size 600x600 with 1 Axes>"
      ]
     },
     "metadata": {},
     "output_type": "display_data"
    }
   ],
   "source": [
    "# Confusion matrix\n",
    "\n",
    "plt.figure(figsize = (6,6))\n",
    "sns.heatmap(confusion_matrix(y_test, pred_gbc), annot = True, fmt = '.0f', cbar = False, cmap=\"Blues\")\n",
    "plt.show()"
   ]
  },
  {
   "cell_type": "code",
   "execution_count": 32,
   "metadata": {
    "execution": {
     "iopub.execute_input": "2023-02-24T14:52:17.119294Z",
     "iopub.status.busy": "2023-02-24T14:52:17.118599Z",
     "iopub.status.idle": "2023-02-24T14:52:17.130818Z",
     "shell.execute_reply": "2023-02-24T14:52:17.129518Z",
     "shell.execute_reply.started": "2023-02-24T14:52:17.119249Z"
    }
   },
   "outputs": [
    {
     "name": "stdout",
     "output_type": "stream",
     "text": [
      "              precision    recall  f1-score   support\n",
      "\n",
      "           0       0.88      0.96      0.92       796\n",
      "           1       0.79      0.51      0.62       204\n",
      "\n",
      "    accuracy                           0.87      1000\n",
      "   macro avg       0.84      0.74      0.77      1000\n",
      "weighted avg       0.87      0.87      0.86      1000\n",
      "\n"
     ]
    }
   ],
   "source": [
    "# Classification report\n",
    "\n",
    "print(classification_report(y_test, pred_gbc))"
   ]
  },
  {
   "cell_type": "code",
   "execution_count": 58,
   "metadata": {
    "execution": {
     "iopub.execute_input": "2023-02-24T15:54:34.462864Z",
     "iopub.status.busy": "2023-02-24T15:54:34.462507Z",
     "iopub.status.idle": "2023-02-24T15:54:35.094261Z",
     "shell.execute_reply": "2023-02-24T15:54:35.093273Z",
     "shell.execute_reply.started": "2023-02-24T15:54:34.462834Z"
    }
   },
   "outputs": [
    {
     "data": {
      "text/html": [
       "<div>\n",
       "<style scoped>\n",
       "    .dataframe tbody tr th:only-of-type {\n",
       "        vertical-align: middle;\n",
       "    }\n",
       "\n",
       "    .dataframe tbody tr th {\n",
       "        vertical-align: top;\n",
       "    }\n",
       "\n",
       "    .dataframe thead th {\n",
       "        text-align: right;\n",
       "    }\n",
       "</style>\n",
       "<table border=\"1\" class=\"dataframe\">\n",
       "  <thead>\n",
       "    <tr style=\"text-align: right;\">\n",
       "      <th></th>\n",
       "      <th>For Train</th>\n",
       "      <th>For Test</th>\n",
       "    </tr>\n",
       "  </thead>\n",
       "  <tbody>\n",
       "    <tr>\n",
       "      <th>rfc</th>\n",
       "      <td>0.889</td>\n",
       "      <td>0.870</td>\n",
       "    </tr>\n",
       "    <tr>\n",
       "      <th>gbc</th>\n",
       "      <td>0.897</td>\n",
       "      <td>0.876</td>\n",
       "    </tr>\n",
       "    <tr>\n",
       "      <th>xgb</th>\n",
       "      <td>0.901</td>\n",
       "      <td>0.872</td>\n",
       "    </tr>\n",
       "  </tbody>\n",
       "</table>\n",
       "</div>"
      ],
      "text/plain": [
       "     For Train  For Test\n",
       "rfc      0.889     0.870\n",
       "gbc      0.897     0.876\n",
       "xgb      0.901     0.872"
      ]
     },
     "execution_count": 58,
     "metadata": {},
     "output_type": "execute_result"
    }
   ],
   "source": [
    "# Conclusion table\n",
    "\n",
    "conclusion_df = pd.DataFrame(columns = ['For Train', 'For Test'])\n",
    "conclusion_df['For Train'] = [random_search_rfc.score(X_train, y_train).round(3),\n",
    "                              random_search_gbc.score(X_train, y_train).round(3),\n",
    "                              random_search_xgb.score(X_train, y_train).round(3)]\n",
    "\n",
    "conclusion_df['For Test'] = [rfc_score, gbc_score, xgb_score]\n",
    "conclusion_df.index = ['rfc', 'gbc', 'xgb']\n",
    "\n",
    "conclusion_df"
   ]
  },
  {
   "cell_type": "markdown",
   "metadata": {},
   "source": [
    "<a id=section-two></a>\n",
    "<span style=\"color:#144272;font-weight:600;font-size:16px;font-style:sans-serif;\">In conclusion i can say we have low accuracy for 'Exited' sigment (f1-score 63% in gbc). It it connected with unbalanced and insufficient data. To increase accuracy of prediction of 'Exited' clinets we need more data. I get 87.6% of accuracy. In general, I think this is not a bad result</span>\n"
   ]
  }
 ],
 "metadata": {
  "accelerator": "GPU",
  "colab": {
   "provenance": []
  },
  "gpuClass": "standard",
  "kernelspec": {
   "display_name": "Python 3 (ipykernel)",
   "language": "python",
   "name": "python3"
  },
  "language_info": {
   "codemirror_mode": {
    "name": "ipython",
    "version": 3
   },
   "file_extension": ".py",
   "mimetype": "text/x-python",
   "name": "python",
   "nbconvert_exporter": "python",
   "pygments_lexer": "ipython3",
   "version": "3.9.12"
  },
  "vscode": {
   "interpreter": {
    "hash": "acb3a59b6813d5acf86a5adf428fe97349b212505d242182e526e5b051cb1990"
   }
  }
 },
 "nbformat": 4,
 "nbformat_minor": 4
}
